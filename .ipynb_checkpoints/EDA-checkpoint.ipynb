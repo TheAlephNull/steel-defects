{
 "cells": [
  {
   "cell_type": "markdown",
   "id": "6651a775",
   "metadata": {},
   "source": [
    "# Steel Defects"
   ]
  },
  {
   "cell_type": "markdown",
   "id": "b22d8ef4",
   "metadata": {},
   "source": [
    "Problem Statement: Based on the dataset provided by Severstal through Kaggle.\n",
    "\n",
    "Objectives:\n",
    "* practice computer vision machine learning models\n",
    "* practice model deployment with AWS"
   ]
  },
  {
   "cell_type": "code",
   "execution_count": 6,
   "id": "a15e4413",
   "metadata": {},
   "outputs": [],
   "source": [
    "import os"
   ]
  },
  {
   "cell_type": "markdown",
   "id": "d217d3d3",
   "metadata": {},
   "source": [
    "TO-DO LIST:\n",
    "* data extraction\n",
    "* data cleaning\n",
    "* feature transformation\n",
    "* target transformation\n",
    "* baseline\n",
    "* model selection\n",
    "* hyperparameter optimization\n",
    "* export model"
   ]
  },
  {
   "cell_type": "markdown",
   "id": "902da9df",
   "metadata": {},
   "source": [
    "# 1. Data Extraction"
   ]
  },
  {
   "cell_type": "markdown",
   "id": "40bdc9d5",
   "metadata": {},
   "source": [
    "Data will be extracted using the kaggle API."
   ]
  },
  {
   "cell_type": "code",
   "execution_count": null,
   "id": "85fcebaf",
   "metadata": {},
   "outputs": [],
   "source": []
  }
 ],
 "metadata": {
  "kernelspec": {
   "display_name": "Python 3 (ipykernel)",
   "language": "python",
   "name": "python3"
  },
  "language_info": {
   "codemirror_mode": {
    "name": "ipython",
    "version": 3
   },
   "file_extension": ".py",
   "mimetype": "text/x-python",
   "name": "python",
   "nbconvert_exporter": "python",
   "pygments_lexer": "ipython3",
   "version": "3.10.4"
  }
 },
 "nbformat": 4,
 "nbformat_minor": 5
}
