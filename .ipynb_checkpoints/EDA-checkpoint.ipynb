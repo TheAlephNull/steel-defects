{
 "cells": [
  {
   "cell_type": "markdown",
   "id": "6651a775",
   "metadata": {},
   "source": [
    "# Steel Defects"
   ]
  },
  {
   "cell_type": "markdown",
   "id": "b22d8ef4",
   "metadata": {},
   "source": [
    "Problem Statement: Based on the dataset provided by Severstal through Kaggle.\n",
    "\n",
    "Objectives:\n",
    "* practice computer vision machine learning models\n",
    "* practice model deployment with AWS"
   ]
  },
  {
   "cell_type": "code",
   "execution_count": 1,
   "id": "a15e4413",
   "metadata": {},
   "outputs": [
    {
     "name": "stderr",
     "output_type": "stream",
     "text": [
      "C:\\Users\\henrya1\\Miniconda3\\envs\\steel_defects\\lib\\site-packages\\torch\\cuda\\__init__.py:82: UserWarning: CUDA initialization: CUDA driver initialization failed, you might not have a CUDA gpu. (Triggered internally at  C:\\cb\\pytorch_1000000000000\\work\\c10\\cuda\\CUDAFunctions.cpp:112.)\n",
      "  return torch._C._cuda_getDeviceCount() > 0\n"
     ]
    }
   ],
   "source": [
    "import os\n",
    "import fastbook\n",
    "from fastbook import *\n",
    "\n",
    "import pandas as pd\n",
    "import numpy as np"
   ]
  },
  {
   "cell_type": "markdown",
   "id": "d217d3d3",
   "metadata": {},
   "source": [
    "TO-DO LIST:\n",
    "* data extraction\n",
    "* data cleaning\n",
    "* feature transformation\n",
    "* target transformation\n",
    "* baseline\n",
    "* model selection\n",
    "* hyperparameter optimization\n",
    "* export model"
   ]
  },
  {
   "cell_type": "markdown",
   "id": "902da9df",
   "metadata": {},
   "source": [
    "# 1. Data Extraction"
   ]
  },
  {
   "cell_type": "markdown",
   "id": "40bdc9d5",
   "metadata": {},
   "source": [
    "Data will be extracted using the kaggle API."
   ]
  },
  {
   "cell_type": "code",
   "execution_count": 2,
   "id": "85fcebaf",
   "metadata": {},
   "outputs": [],
   "source": [
    "#!kaggle competitions download -c severstal-steel-defect-detection\n",
    "#comment out if used in an environment with active repo"
   ]
  },
  {
   "cell_type": "code",
   "execution_count": 3,
   "id": "74372813",
   "metadata": {},
   "outputs": [],
   "source": [
    "train_ims = './serverstal-steel-defect-detection/train_images'\n",
    "test_ims = './serverstal-steel-defect-detection/test_images'"
   ]
  },
  {
   "cell_type": "code",
   "execution_count": 4,
   "id": "8a60bcf6",
   "metadata": {},
   "outputs": [],
   "source": [
    "train = get_image_files(train_ims)\n",
    "test = get_image_files(test_ims)"
   ]
  },
  {
   "cell_type": "code",
   "execution_count": 5,
   "id": "07d94608",
   "metadata": {},
   "outputs": [
    {
     "data": {
      "text/plain": [
       "(#6666) [Path('serverstal-steel-defect-detection/train_images/1_0002cc93b.jpg'),Path('serverstal-steel-defect-detection/train_images/1_0007a71bf.jpg'),Path('serverstal-steel-defect-detection/train_images/1_000a4bcdd.jpg'),Path('serverstal-steel-defect-detection/train_images/1_000f6bf48.jpg'),Path('serverstal-steel-defect-detection/train_images/1_0014fce06.jpg'),Path('serverstal-steel-defect-detection/train_images/1_0025bde0c.jpg'),Path('serverstal-steel-defect-detection/train_images/1_002af848d.jpg'),Path('serverstal-steel-defect-detection/train_images/1_002fc4e19.jpg'),Path('serverstal-steel-defect-detection/train_images/1_0030401a5.jpg'),Path('serverstal-steel-defect-detection/train_images/1_0046839bd.jpg')...]"
      ]
     },
     "execution_count": 5,
     "metadata": {},
     "output_type": "execute_result"
    }
   ],
   "source": [
    "train"
   ]
  },
  {
   "cell_type": "code",
   "execution_count": 6,
   "id": "d33371df",
   "metadata": {},
   "outputs": [
    {
     "data": {
      "text/plain": [
       "(#11408) [Path('serverstal-steel-defect-detection/test_images/0000f269f.jpg'),Path('serverstal-steel-defect-detection/test_images/000ccc2ac.jpg'),Path('serverstal-steel-defect-detection/test_images/002451917.jpg'),Path('serverstal-steel-defect-detection/test_images/003c5da97.jpg'),Path('serverstal-steel-defect-detection/test_images/0042e163f.jpg'),Path('serverstal-steel-defect-detection/test_images/004f40c73.jpg'),Path('serverstal-steel-defect-detection/test_images/00513039a.jpg'),Path('serverstal-steel-defect-detection/test_images/006f39c41.jpg'),Path('serverstal-steel-defect-detection/test_images/008725cbc.jpg'),Path('serverstal-steel-defect-detection/test_images/0098ca44e.jpg')...]"
      ]
     },
     "execution_count": 6,
     "metadata": {},
     "output_type": "execute_result"
    }
   ],
   "source": [
    "test"
   ]
  },
  {
   "cell_type": "markdown",
   "id": "fb42cb29",
   "metadata": {},
   "source": [
    "# 2. Initial Clean-Up"
   ]
  },
  {
   "cell_type": "code",
   "execution_count": 7,
   "id": "86ac2bc6",
   "metadata": {},
   "outputs": [],
   "source": [
    "failed = verify_images(train) # verifies if no empty path"
   ]
  },
  {
   "cell_type": "code",
   "execution_count": 8,
   "id": "b75e4918",
   "metadata": {},
   "outputs": [
    {
     "data": {
      "text/plain": [
       "(#0) []"
      ]
     },
     "execution_count": 8,
     "metadata": {},
     "output_type": "execute_result"
    }
   ],
   "source": [
    "failed # returns which indexes are empty paths"
   ]
  },
  {
   "cell_type": "markdown",
   "id": "62c5878b",
   "metadata": {},
   "source": [
    "# 3. Preparation"
   ]
  },
  {
   "cell_type": "markdown",
   "id": "f417f73b",
   "metadata": {},
   "source": [
    "Goal: the way we know there is a defect for each image is through the `train.csv` file. Every row contains the ID and the defect, meaning that each ID can have multiple rows if it has multiple defects. \n",
    "\n",
    "Therefore, if we want to know that there IS a defect as opposed to identifying WHAT defect, we want to determine if an ID on this list exists. "
   ]
  },
  {
   "cell_type": "code",
   "execution_count": 9,
   "id": "1ee14e45",
   "metadata": {
    "scrolled": false
   },
   "outputs": [
    {
     "data": {
      "text/html": [
       "<div>\n",
       "<style scoped>\n",
       "    .dataframe tbody tr th:only-of-type {\n",
       "        vertical-align: middle;\n",
       "    }\n",
       "\n",
       "    .dataframe tbody tr th {\n",
       "        vertical-align: top;\n",
       "    }\n",
       "\n",
       "    .dataframe thead th {\n",
       "        text-align: right;\n",
       "    }\n",
       "</style>\n",
       "<table border=\"1\" class=\"dataframe\">\n",
       "  <thead>\n",
       "    <tr style=\"text-align: right;\">\n",
       "      <th></th>\n",
       "      <th>ImageId</th>\n",
       "      <th>ClassId</th>\n",
       "      <th>EncodedPixels</th>\n",
       "    </tr>\n",
       "  </thead>\n",
       "  <tbody>\n",
       "    <tr>\n",
       "      <th>0</th>\n",
       "      <td>0002cc93b.jpg</td>\n",
       "      <td>1</td>\n",
       "      <td>29102 12 29346 24 29602 24 29858 24 30114 24 30370 24 30626 24 30882 24 31139 23 31395 23 31651 23 31907 23 32163 23 32419 23 32675 23 77918 27 78174 55 78429 60 78685 64 78941 68 79197 72 79452 77 79708 81 79964 85 80220 89 80475 94 80731 98 80987 102 81242 105 81498 105 81754 104 82010 104 82265 105 82521 31 82556 69 82779 27 82818 63 83038 22 83080 57 83297 17 83342 50 83555 13 83604 44 83814 8 83866 37 84073 3 84128 31 84390 25 84652 18 84918 8 85239 10 85476 29 85714 47 85960 57 86216 57 86471 58 86727 58 86983 58 87238 59 87494 59 87750 59 88005 60 88261 60 88517 60 88772 61 89028 53...</td>\n",
       "    </tr>\n",
       "    <tr>\n",
       "      <th>1</th>\n",
       "      <td>0007a71bf.jpg</td>\n",
       "      <td>3</td>\n",
       "      <td>18661 28 18863 82 19091 110 19347 110 19603 110 19859 110 20115 110 20371 110 20627 110 20883 110 21139 110 21395 110 21651 110 21962 55 293125 251 293381 251 293637 251 293893 251 294149 251 294405 251 294661 251 294917 251 295173 251 295429 251 295685 251 295941 251 296197 251 296453 251 296709 251 296965 251 297221 251 297477 251 297733 251 297989 251 298245 251 298564 188 298945 63</td>\n",
       "    </tr>\n",
       "    <tr>\n",
       "      <th>2</th>\n",
       "      <td>000a4bcdd.jpg</td>\n",
       "      <td>1</td>\n",
       "      <td>37607 3 37858 8 38108 14 38359 20 38610 25 38863 28 39119 28 39375 29 39631 29 39887 29 40143 29 40399 29 40655 30 40911 30 41167 30 41423 30 41679 31 41935 31 42191 31 42447 31 42703 31 42960 31 43216 31 43472 31 43728 31 43984 31 44240 32 44496 32 44752 32 45008 32 45264 33 45520 33 45776 33 46032 33 46288 33 46544 34 46803 31 47065 25 47327 19 47588 15 47850 9 48112 3 62667 12 62923 23 63179 23 63348 3 63435 23 63604 7 63691 23 63860 11 63947 23 64116 15 64203 23 64372 19 64459 23 64628 24 64715 23 64884 28 64971 23 65139 33 65227 23 65395 37 65483 23 65651 41 65740 22 65907 45 65996 22...</td>\n",
       "    </tr>\n",
       "    <tr>\n",
       "      <th>3</th>\n",
       "      <td>000f6bf48.jpg</td>\n",
       "      <td>4</td>\n",
       "      <td>131973 1 132228 4 132483 6 132738 8 132993 11 133248 13 133503 16 133757 19 134012 22 134267 24 134522 26 134777 29 135032 31 135287 34 135542 36 135796 40 136050 43 136304 46 136558 50 136812 54 137066 56 137320 59 137574 61 137828 63 138082 65 138336 68 138590 70 138845 71 139101 71 139356 73 139612 73 139868 73 140123 74 140379 74 140634 75 140890 75 141145 77 141400 78 141654 80 141909 81 142164 82 142418 84 142673 85 142928 86 143182 88 143437 89 143692 90 143946 93 144201 94 144456 95 144710 97 144965 98 145220 99 145474 101 145729 103 145983 105 146237 107 146491 109 146745 112 1469...</td>\n",
       "    </tr>\n",
       "    <tr>\n",
       "      <th>4</th>\n",
       "      <td>0014fce06.jpg</td>\n",
       "      <td>3</td>\n",
       "      <td>229501 11 229741 33 229981 55 230221 77 230468 92 230623 10 230724 95 230845 11 230869 28 230979 97 231094 63 231235 97 231344 70 231490 99 231593 79 231746 183 232002 184 232257 186 232513 186 232769 185 233024 186 233280 185 233535 186 233791 185 234047 185 234302 186 234558 186 234813 186 235069 186 235327 184 235586 181 235845 177 236103 175 236362 172 236621 78 236714 71 236880 57 236972 61 237139 44 237229 52 237397 32 237486 11 237513 16 237656 19 237744 3 237915 6</td>\n",
       "    </tr>\n",
       "  </tbody>\n",
       "</table>\n",
       "</div>"
      ],
      "text/plain": [
       "         ImageId  ClassId  \\\n",
       "0  0002cc93b.jpg        1   \n",
       "1  0007a71bf.jpg        3   \n",
       "2  000a4bcdd.jpg        1   \n",
       "3  000f6bf48.jpg        4   \n",
       "4  0014fce06.jpg        3   \n",
       "\n",
       "                                                                                                                                                                                                                                                                                                                                                                                                                                                                                                                                                                                                             EncodedPixels  \n",
       "0  29102 12 29346 24 29602 24 29858 24 30114 24 30370 24 30626 24 30882 24 31139 23 31395 23 31651 23 31907 23 32163 23 32419 23 32675 23 77918 27 78174 55 78429 60 78685 64 78941 68 79197 72 79452 77 79708 81 79964 85 80220 89 80475 94 80731 98 80987 102 81242 105 81498 105 81754 104 82010 104 82265 105 82521 31 82556 69 82779 27 82818 63 83038 22 83080 57 83297 17 83342 50 83555 13 83604 44 83814 8 83866 37 84073 3 84128 31 84390 25 84652 18 84918 8 85239 10 85476 29 85714 47 85960 57 86216 57 86471 58 86727 58 86983 58 87238 59 87494 59 87750 59 88005 60 88261 60 88517 60 88772 61 89028 53...  \n",
       "1                                                                                                                                                                                                                     18661 28 18863 82 19091 110 19347 110 19603 110 19859 110 20115 110 20371 110 20627 110 20883 110 21139 110 21395 110 21651 110 21962 55 293125 251 293381 251 293637 251 293893 251 294149 251 294405 251 294661 251 294917 251 295173 251 295429 251 295685 251 295941 251 296197 251 296453 251 296709 251 296965 251 297221 251 297477 251 297733 251 297989 251 298245 251 298564 188 298945 63  \n",
       "2  37607 3 37858 8 38108 14 38359 20 38610 25 38863 28 39119 28 39375 29 39631 29 39887 29 40143 29 40399 29 40655 30 40911 30 41167 30 41423 30 41679 31 41935 31 42191 31 42447 31 42703 31 42960 31 43216 31 43472 31 43728 31 43984 31 44240 32 44496 32 44752 32 45008 32 45264 33 45520 33 45776 33 46032 33 46288 33 46544 34 46803 31 47065 25 47327 19 47588 15 47850 9 48112 3 62667 12 62923 23 63179 23 63348 3 63435 23 63604 7 63691 23 63860 11 63947 23 64116 15 64203 23 64372 19 64459 23 64628 24 64715 23 64884 28 64971 23 65139 33 65227 23 65395 37 65483 23 65651 41 65740 22 65907 45 65996 22...  \n",
       "3  131973 1 132228 4 132483 6 132738 8 132993 11 133248 13 133503 16 133757 19 134012 22 134267 24 134522 26 134777 29 135032 31 135287 34 135542 36 135796 40 136050 43 136304 46 136558 50 136812 54 137066 56 137320 59 137574 61 137828 63 138082 65 138336 68 138590 70 138845 71 139101 71 139356 73 139612 73 139868 73 140123 74 140379 74 140634 75 140890 75 141145 77 141400 78 141654 80 141909 81 142164 82 142418 84 142673 85 142928 86 143182 88 143437 89 143692 90 143946 93 144201 94 144456 95 144710 97 144965 98 145220 99 145474 101 145729 103 145983 105 146237 107 146491 109 146745 112 1469...  \n",
       "4                                                                                                                             229501 11 229741 33 229981 55 230221 77 230468 92 230623 10 230724 95 230845 11 230869 28 230979 97 231094 63 231235 97 231344 70 231490 99 231593 79 231746 183 232002 184 232257 186 232513 186 232769 185 233024 186 233280 185 233535 186 233791 185 234047 185 234302 186 234558 186 234813 186 235069 186 235327 184 235586 181 235845 177 236103 175 236362 172 236621 78 236714 71 236880 57 236972 61 237139 44 237229 52 237397 32 237486 11 237513 16 237656 19 237744 3 237915 6  "
      ]
     },
     "execution_count": 9,
     "metadata": {},
     "output_type": "execute_result"
    }
   ],
   "source": [
    "train_csv = pd.read_csv('serverstal-steel-defect-detection/train.csv')\n",
    "train_csv.head()"
   ]
  },
  {
   "cell_type": "code",
   "execution_count": null,
   "id": "9a5fb9ee",
   "metadata": {},
   "outputs": [],
   "source": [
    "# goal is to rename a file so that it has a 0 if it has a defect at the front and a 1 at the front if it does have a defect\n",
    "# for path in train, \n",
    "# if the picture id image is in ImageID column\n",
    "# rename picture path\n"
   ]
  },
  {
   "cell_type": "code",
   "execution_count": 31,
   "id": "1ebaaad8",
   "metadata": {},
   "outputs": [],
   "source": [
    "# for path in train:\n",
    "# \"\"\"\n",
    "# Renames the files in train_images folder with a 1 if it\n",
    "# HAS a defect (at least one) and 0 if it does not. \n",
    "# Determined if the file name is in the folder. ONLY RUN THIS ONCE.\n",
    "# \"\"\"\n",
    "#     ID = path.name\n",
    "#     if ID in train_csv['ImageId'].unique(): # which means it has a defect\n",
    "#         path.replace('serverstal-steel-defect-detection/train_images/' +'1_' + ID) #1 is has defect\n",
    "#     else:\n",
    "#         path.replace('serverstal-steel-defect-detection/test_images/' + '0_' + ID)#0 is no defect"
   ]
  },
  {
   "cell_type": "code",
   "execution_count": 10,
   "id": "60d17499",
   "metadata": {
    "scrolled": true
   },
   "outputs": [
    {
     "data": {
      "text/plain": [
       "(#6666) [Path('serverstal-steel-defect-detection/train_images/1_0002cc93b.jpg'),Path('serverstal-steel-defect-detection/train_images/1_0007a71bf.jpg'),Path('serverstal-steel-defect-detection/train_images/1_000a4bcdd.jpg'),Path('serverstal-steel-defect-detection/train_images/1_000f6bf48.jpg'),Path('serverstal-steel-defect-detection/train_images/1_0014fce06.jpg'),Path('serverstal-steel-defect-detection/train_images/1_0025bde0c.jpg'),Path('serverstal-steel-defect-detection/train_images/1_002af848d.jpg'),Path('serverstal-steel-defect-detection/train_images/1_002fc4e19.jpg'),Path('serverstal-steel-defect-detection/train_images/1_0030401a5.jpg'),Path('serverstal-steel-defect-detection/train_images/1_0046839bd.jpg')...]"
      ]
     },
     "execution_count": 10,
     "metadata": {},
     "output_type": "execute_result"
    }
   ],
   "source": [
    "train1 = get_image_files(train_ims)\n",
    "train1"
   ]
  },
  {
   "cell_type": "markdown",
   "id": "c5a8a107",
   "metadata": {},
   "source": [
    "# 4. Feature Transformation & Scaling"
   ]
  },
  {
   "cell_type": "markdown",
   "id": "be4bfea4",
   "metadata": {},
   "source": [
    "Create the dataloader to pass the image data onto the GPU for training."
   ]
  },
  {
   "cell_type": "code",
   "execution_count": 12,
   "id": "21136167",
   "metadata": {},
   "outputs": [
    {
     "data": {
      "text/plain": [
       "'1_0002cc93b.jpg'"
      ]
     },
     "execution_count": 12,
     "metadata": {},
     "output_type": "execute_result"
    }
   ],
   "source": [
    "train1[0].name"
   ]
  },
  {
   "cell_type": "code",
   "execution_count": 14,
   "id": "a0a818c8",
   "metadata": {},
   "outputs": [],
   "source": [
    "steel_pics = DataBlock(\n",
    "    blocks = (ImageBlock, CategoryBlock), # i.e., Image = Independent variable, Category = Dependent Variable\n",
    "    get_items = get_image_files,\n",
    "    splitter = RandomSplitter(valid_pct = 0.2, seed = 42), # for splitting validation and training set\n",
    "    get_y = lambda x: x.name.split(\"_\")[0] \n",
    ")"
   ]
  },
  {
   "cell_type": "code",
   "execution_count": 16,
   "id": "c52431fd",
   "metadata": {
    "scrolled": true
   },
   "outputs": [
    {
     "name": "stdout",
     "output_type": "stream",
     "text": [
      "Due to IPython and Windows limitation, python multiprocessing isn't available now.\n",
      "So `number_workers` is changed to 0 to avoid getting stuck\n"
     ]
    }
   ],
   "source": [
    "dls = steel_pics.dataloaders(train_ims)"
   ]
  },
  {
   "cell_type": "code",
   "execution_count": 17,
   "id": "84a66f2d",
   "metadata": {},
   "outputs": [
    {
     "data": {
      "image/png": "[encoded data removed]",
      "text/plain": [
       "<Figure size 864x216 with 4 Axes>"
      ]
     },
     "metadata": {
      "needs_background": "light"
     },
     "output_type": "display_data"
    }
   ],
   "source": [
    "dls.valid.show_batch(max_n = 4, nrows = 1)"
   ]
  },
  {
   "cell_type": "markdown",
   "id": "137e47e3",
   "metadata": {},
   "source": [
    "## Data Augmentation"
   ]
  },
  {
   "cell_type": "code",
   "execution_count": 18,
   "id": "eb9a17f5",
   "metadata": {},
   "outputs": [
    {
     "name": "stdout",
     "output_type": "stream",
     "text": [
      "Due to IPython and Windows limitation, python multiprocessing isn't available now.\n",
      "So `number_workers` is changed to 0 to avoid getting stuck\n"
     ]
    },
    {
     "data": {
      "image/png": "[encoded data removed]",
      "text/plain": [
       "<Figure size 864x432 with 8 Axes>"
      ]
     },
     "metadata": {
      "needs_background": "light"
     },
     "output_type": "display_data"
    }
   ],
   "source": [
    "steel_pics = steel_pics.new(batch_tfms = aug_transforms(mult=3))\n",
    "dls = steel_pics.dataloaders(train_ims)\n",
    "dls.train.show_batch(max_n = 8, nrows = 2, unique = True)"
   ]
  },
  {
   "cell_type": "markdown",
   "id": "d0bad427",
   "metadata": {},
   "source": [
    "# 5. Target Transformation"
   ]
  },
  {
   "cell_type": "markdown",
   "id": "62842db2",
   "metadata": {},
   "source": [
    "Don't actually need it. "
   ]
  },
  {
   "cell_type": "markdown",
   "id": "8e26801c",
   "metadata": {},
   "source": [
    "# 6. Baseline"
   ]
  },
  {
   "cell_type": "code",
   "execution_count": null,
   "id": "a2fcd017",
   "metadata": {},
   "outputs": [
    {
     "data": {
      "text/html": [
       "\n",
       "<style>\n",
       "    /* Turns off some styling */\n",
       "    progress {\n",
       "        /* gets rid of default border in Firefox and Opera. */\n",
       "        border: none;\n",
       "        /* Needs to be in here for Safari polyfill so background images work as expected. */\n",
       "        background-size: auto;\n",
       "    }\n",
       "    .progress-bar-interrupted, .progress-bar-interrupted::-webkit-progress-bar {\n",
       "        background: #F44336;\n",
       "    }\n",
       "</style>\n"
      ],
      "text/plain": [
       "<IPython.core.display.HTML object>"
      ]
     },
     "metadata": {},
     "output_type": "display_data"
    },
    {
     "data": {
      "text/html": [
       "<table border=\"1\" class=\"dataframe\">\n",
       "  <thead>\n",
       "    <tr style=\"text-align: left;\">\n",
       "      <th>epoch</th>\n",
       "      <th>train_loss</th>\n",
       "      <th>valid_loss</th>\n",
       "      <th>error_rate</th>\n",
       "      <th>time</th>\n",
       "    </tr>\n",
       "  </thead>\n",
       "  <tbody>\n",
       "    <tr>\n",
       "      <td>0</td>\n",
       "      <td>0.000000</td>\n",
       "      <td>0.000000</td>\n",
       "      <td>0.000000</td>\n",
       "      <td>41:26</td>\n",
       "    </tr>\n",
       "  </tbody>\n",
       "</table>"
      ],
      "text/plain": [
       "<IPython.core.display.HTML object>"
      ]
     },
     "metadata": {},
     "output_type": "display_data"
    },
    {
     "data": {
      "text/html": [
       "\n",
       "<style>\n",
       "    /* Turns off some styling */\n",
       "    progress {\n",
       "        /* gets rid of default border in Firefox and Opera. */\n",
       "        border: none;\n",
       "        /* Needs to be in here for Safari polyfill so background images work as expected. */\n",
       "        background-size: auto;\n",
       "    }\n",
       "    .progress-bar-interrupted, .progress-bar-interrupted::-webkit-progress-bar {\n",
       "        background: #F44336;\n",
       "    }\n",
       "</style>\n"
      ],
      "text/plain": [
       "<IPython.core.display.HTML object>"
      ]
     },
     "metadata": {},
     "output_type": "display_data"
    },
    {
     "data": {
      "text/html": [
       "\n",
       "    <div>\n",
       "      <progress value='0' class='' max='4' style='width:300px; height:20px; vertical-align: middle;'></progress>\n",
       "      0.00% [0/4 00:00<00:00]\n",
       "    </div>\n",
       "    \n",
       "<table border=\"1\" class=\"dataframe\">\n",
       "  <thead>\n",
       "    <tr style=\"text-align: left;\">\n",
       "      <th>epoch</th>\n",
       "      <th>train_loss</th>\n",
       "      <th>valid_loss</th>\n",
       "      <th>error_rate</th>\n",
       "      <th>time</th>\n",
       "    </tr>\n",
       "  </thead>\n",
       "  <tbody>\n",
       "  </tbody>\n",
       "</table><p>\n",
       "\n",
       "    <div>\n",
       "      <progress value='60' class='' max='83' style='width:300px; height:20px; vertical-align: middle;'></progress>\n",
       "      72.29% [60/83 36:25<13:57 0.0000]\n",
       "    </div>\n",
       "    "
      ],
      "text/plain": [
       "<IPython.core.display.HTML object>"
      ]
     },
     "metadata": {},
     "output_type": "display_data"
    }
   ],
   "source": [
    "baseline = cnn_learner(dls, resnet18, metrics=error_rate) # initiate instance\n",
    "baseline.fine_tune(4) # fine tune"
   ]
  },
  {
   "cell_type": "markdown",
   "id": "ae517e5d",
   "metadata": {},
   "source": [
    "### To-Do:\n",
    "\n",
    "1. Data extraction\n",
    "2. Data cleaning\n",
    "3. Preparation (change file names to be useful)\n",
    "4. Feature Transformation\n",
    "5. Scaling (dataloaders?)\n",
    "6. Target Transformation\n",
    "7. Model Selection\n",
    "8. Hyperparameter Optimization\n",
    "9. Ensembling"
   ]
  },
  {
   "cell_type": "code",
   "execution_count": 32,
   "id": "0ac2ccfb",
   "metadata": {},
   "outputs": [
    {
     "data": {
      "text/plain": [
       "Path('serverstal-steel-defect-detection/train_images/00031f466.jpg')"
      ]
     },
     "execution_count": 32,
     "metadata": {},
     "output_type": "execute_result"
    }
   ],
   "source": [
    "train[1]"
   ]
  },
  {
   "cell_type": "code",
   "execution_count": 33,
   "id": "56f434a0",
   "metadata": {},
   "outputs": [
    {
     "data": {
      "text/plain": [
       "Path('serverstal-steel-defect-detection/train_images/000418bfc.jpg')"
      ]
     },
     "execution_count": 33,
     "metadata": {},
     "output_type": "execute_result"
    }
   ],
   "source": [
    "train[2]"
   ]
  },
  {
   "cell_type": "code",
   "execution_count": null,
   "id": "1506c2ee",
   "metadata": {},
   "outputs": [],
   "source": []
  }
 ],
 "metadata": {
  "kernelspec": {
   "display_name": "Python 3 (ipykernel)",
   "language": "python",
   "name": "python3"
  },
  "language_info": {
   "codemirror_mode": {
    "name": "ipython",
    "version": 3
   },
   "file_extension": ".py",
   "mimetype": "text/x-python",
   "name": "python",
   "nbconvert_exporter": "python",
   "pygments_lexer": "ipython3",
   "version": "3.10.4"
  }
 },
 "nbformat": 4,
 "nbformat_minor": 5
}
